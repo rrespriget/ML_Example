{
 "cells": [
  {
   "cell_type": "code",
   "execution_count": 1,
   "metadata": {},
   "outputs": [],
   "source": [
    "from sqlalchemy import create_engine\n",
    "import sqlalchemy\n",
    "from sqlalchemy.ext.declarative import declarative_base\n",
    "from sqlalchemy import Column, Integer, String\n",
    "from sqlalchemy.orm import sessionmaker\n",
    "\n",
    "import requests\n",
    "import pandas\n",
    "from datetime import datetime\n",
    "import numpy as np\n",
    "import selenium\n",
    "from selenium import webdriver\n",
    "import time\n",
    "import signal"
   ]
  },
  {
   "cell_type": "code",
   "execution_count": 60,
   "metadata": {},
   "outputs": [
    {
     "name": "stdout",
     "output_type": "stream",
     "text": [
      "2019-09-10 13:43:42  / genybet_odd_scrap : create the webdriver\n",
      "2019-09-10 13:43:46  / genybet_odd_scrap : connect to the page\n"
     ]
    }
   ],
   "source": [
    "print(str(datetime.now()).split('.')[0] + \"  / genybet_odd_scrap : create the webdriver\")\n",
    "driver = webdriver.PhantomJS()\n",
    "print(str(datetime.now()).split('.')[0] + \"  / genybet_odd_scrap : connect to the page\")\n",
    "url = 'https://mpg.football/data/players/1'  \n",
    "driver.get(url  )\n",
    "sleep_time = 3\n",
    "time.sleep(sleep_time+sleep_time)\n",
    "#save time\n",
    "date_extraction = str(datetime.now()).split('.')[0]\n",
    "#look for data\n",
    "body_list = driver.find_elements_by_tag_name('body')   "
   ]
  },
  {
   "cell_type": "code",
   "execution_count": 37,
   "metadata": {},
   "outputs": [
    {
     "data": {
      "text/plain": [
       "582"
      ]
     },
     "execution_count": 37,
     "metadata": {},
     "output_type": "execute_result"
    }
   ],
   "source": [
    "len(body_list[0].find_elements_by_tag_name('tr'))"
   ]
  },
  {
   "cell_type": "code",
   "execution_count": 63,
   "metadata": {},
   "outputs": [],
   "source": [
    "a=body_list[0].find_elements_by_tag_name('tr')[2].find_elements_by_tag_name('td')[0].find_elements_by_tag_name('div')[0].find_elements_by_tag_name('span')[1]"
   ]
  },
  {
   "cell_type": "code",
   "execution_count": 77,
   "metadata": {},
   "outputs": [
    {
     "data": {
      "text/plain": [
       "'index__firstNameLabel___3edaR'"
      ]
     },
     "execution_count": 77,
     "metadata": {},
     "output_type": "execute_result"
    }
   ],
   "source": [
    "a.get_attribute(\"class\")"
   ]
  },
  {
   "cell_type": "code",
   "execution_count": 78,
   "metadata": {},
   "outputs": [
    {
     "data": {
      "text/plain": [
       "[]"
      ]
     },
     "execution_count": 78,
     "metadata": {},
     "output_type": "execute_result"
    }
   ],
   "source": [
    "driver1 = webdriver.PhantomJS()\n",
    "driver1.find_elements_by_class_name(a.get_attribute(\"class\"))"
   ]
  },
  {
   "cell_type": "code",
   "execution_count": 54,
   "metadata": {},
   "outputs": [],
   "source": [
    "driver = webdriver.PhantomJS()\n",
    "driver.set_window_size(1920,1080)\n",
    "try:\n",
    "    driver.get('https://mpg.football/data/players/1')\n",
    "\n",
    "except Exception:\n",
    "    driver.save_screenshot('screenshot.png')\n",
    "\n",
    "driver.close()"
   ]
  },
  {
   "cell_type": "code",
   "execution_count": null,
   "metadata": {},
   "outputs": [],
   "source": [
    "driver.close()"
   ]
  }
 ],
 "metadata": {
  "kernelspec": {
   "display_name": "Python 3",
   "language": "python",
   "name": "python3"
  },
  "language_info": {
   "codemirror_mode": {
    "name": "ipython",
    "version": 3
   },
   "file_extension": ".py",
   "mimetype": "text/x-python",
   "name": "python",
   "nbconvert_exporter": "python",
   "pygments_lexer": "ipython3",
   "version": "3.7.3"
  }
 },
 "nbformat": 4,
 "nbformat_minor": 2
}
