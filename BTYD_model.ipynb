{
 "cells": [
  {
   "cell_type": "markdown",
   "metadata": {},
   "source": [
    "# BTYD model"
   ]
  },
  {
   "cell_type": "code",
   "execution_count": null,
   "metadata": {},
   "outputs": [],
   "source": [
    "%matplotlib inline \n",
    "%pylab inline"
   ]
  },
  {
   "cell_type": "code",
   "execution_count": null,
   "metadata": {},
   "outputs": [],
   "source": [
    "import dataiku\n",
    "import pandas as pd, numpy as np\n",
    "from dataiku import pandasutils as pdu\n",
    "from lifetimes.utils import calculate_alive_path, expected_cumulative_transactions\n",
    "from scipy import stats\n",
    "from matplotlib import pyplot as plt\n",
    "import seaborn as sns"
   ]
  },
  {
   "cell_type": "code",
   "execution_count": null,
   "metadata": {},
   "outputs": [],
   "source": [
    "# Import ensemble des acheteurs FR VP\n",
    "tb_tra_combine_cali_test = dataiku.Dataset(\"tb_tra_combine_cali_test\")\n",
    "tra_membres_ori = tb_tra_combine_cali_test.get_dataframe()\n",
    "tra_membres_ori.shape"
   ]
  },
  {
   "cell_type": "code",
   "execution_count": null,
   "metadata": {},
   "outputs": [],
   "source": [
    "import random\n",
    "random.seed(100)\n",
    "\n",
    "# Echantillon : 10 % des acheteurs\n",
    "tra_membres=tra_membres_ori.sample(int(tra_membres_ori.shape[0]*0.1),replace=False)"
   ]
  },
  {
   "cell_type": "code",
   "execution_count": null,
   "metadata": {},
   "outputs": [],
   "source": [
    "# Rename t_cal\n",
    "tra_membres.rename(columns={'t_cal' : 'T_cal'}, inplace=True)\n",
    "#tra_membres.groupby('memberid').memberid.nunique()"
   ]
  },
  {
   "cell_type": "markdown",
   "metadata": {},
   "source": [
    "## 1. Repeat model"
   ]
  },
  {
   "cell_type": "code",
   "execution_count": null,
   "metadata": {},
   "outputs": [],
   "source": [
    "# Distribution of the number of purchases per customer\n",
    "n_purchases = tra_membres['frequency_cal']\n",
    "n_purchases.hist(bins=(n_purchases.max(axis=0) - n_purchases.min(axis=0)) + 1)\n",
    "plt.xlabel('Number of Purchases') \n",
    "plt.ylabel('Number of Customers')"
   ]
  },
  {
   "cell_type": "code",
   "execution_count": null,
   "metadata": {},
   "outputs": [],
   "source": [
    "# BG/NBD Model\n",
    "data=tra_membres[['frequency_cal','recency_cal','T_cal']]\n",
    "from lifetimes import BetaGeoFitter\n",
    "bgf = BetaGeoFitter(penalizer_coef=0.0)\n",
    "bgf.fit(data['frequency_cal'], data['recency_cal'], data['T_cal'])\n",
    "print(bgf)"
   ]
  },
  {
   "cell_type": "code",
   "execution_count": null,
   "metadata": {},
   "outputs": [],
   "source": [
    "# Distribution of actual frequency of repeat transactios with the fitted one\n",
    "from lifetimes.plotting import plot_period_transactions\n",
    "plot_period_transactions(bgf)"
   ]
  },
  {
   "cell_type": "code",
   "execution_count": null,
   "metadata": {},
   "outputs": [],
   "source": [
    "# Test the fitted model with the hold-out period\n",
    "from lifetimes.plotting import plot_calibration_purchases_vs_holdout_purchases\n",
    "bgf.fit(tra_membres['frequency_cal'], tra_membres['recency_cal'], tra_membres['T_cal'])\n",
    "# Plot fitted model\n",
    "plot_calibration_purchases_vs_holdout_purchases(bgf,tra_membres[['frequency_cal','recency_cal','T_cal','frequency_holdout','duration_holdout']])"
   ]
  },
  {
   "cell_type": "code",
   "execution_count": null,
   "metadata": {},
   "outputs": [],
   "source": [
    "# Save model\n",
    "path=dataiku.Folder(\"BTYD Model\").get_path()\n",
    "bgf.save_model(path+'/bgf.pkl')"
   ]
  },
  {
   "cell_type": "code",
   "execution_count": null,
   "metadata": {},
   "outputs": [],
   "source": [
    "# Load model\n",
    "bgf_loaded=BetaGeoFitter()\n",
    "bgf_loaded.load_model(path+'/bgf.pkl')"
   ]
  },
  {
   "cell_type": "markdown",
   "metadata": {},
   "source": [
    "## 2. Monetary value model"
   ]
  },
  {
   "cell_type": "code",
   "execution_count": null,
   "metadata": {},
   "outputs": [],
   "source": [
    "tra_membres[['monetary_value', 'frequency_cal']].corr()"
   ]
  },
  {
   "cell_type": "code",
   "execution_count": null,
   "metadata": {},
   "outputs": [],
   "source": [
    "from lifetimes import GammaGammaFitter\n",
    "tra_membres_cor = tra_membres[tra_membres['frequency_cal']>0] #  Extract only the members with a repeat purchase\n",
    "ggf = GammaGammaFitter(penalizer_coef = 0.0)\n",
    "ggf.fit(tra_membres_cor['frequency_cal'],\n",
    "tra_membres_cor['monetary_value'])\n",
    "print(ggf)"
   ]
  },
  {
   "cell_type": "code",
   "execution_count": null,
   "metadata": {},
   "outputs": [],
   "source": [
    "path=dataiku.Folder(\"BTYD Model\").get_path()\n",
    "ggf.save_model(path+'/ggf.pkl')"
   ]
  },
  {
   "cell_type": "code",
   "execution_count": null,
   "metadata": {},
   "outputs": [],
   "source": [
    "bgf_loaded=BetaGeoFitter()\n",
    "bgf_loaded.load_model(path+'/bgf.pkl')\n",
    "ggf_loaded=GammaGammaFitter()\n",
    "ggf_loaded.load_model(path+'/ggf.pkl')"
   ]
  },
  {
   "cell_type": "code",
   "execution_count": null,
   "metadata": {},
   "outputs": [],
   "source": [
    "print(\"Expected conditional average profit: %s, Average profit: %s\" % (\n",
    "       ggf.conditional_expected_average_profit(\n",
    "           tra_membres['frequency_cal'],\n",
    "           tra_membres['monetary_value']\n",
    "       ).mean(),\n",
    "       tra_membres[tra_membres['frequency_cal']>0]['monetary_value'].mean()\n",
    "   ))"
   ]
  },
  {
   "cell_type": "code",
   "execution_count": null,
   "metadata": {},
   "outputs": [],
   "source": [
    "bgf.fit(tra_membres['frequency_cal'], tra_membres['recency_cal'], tra_membres['T_cal'])\n",
    "\n",
    "aa=ggf.customer_lifetime_value(\n",
    "        bgf, #the model to use to predict the number of future transactions\n",
    "        tra_membres['frequency_cal'],\n",
    "        tra_membres['recency_cal'],\n",
    "        tra_membres['T_cal'],\n",
    "        tra_membres['monetary_value'],\n",
    "        time=12, # months\n",
    "        discount_rate=0.01 # monthly discount rate ~ 12.7% annually\n",
    ")\n",
    "    "
   ]
  },
  {
   "cell_type": "code",
   "execution_count": null,
   "metadata": {},
   "outputs": [],
   "source": [
    "bb=pd.DataFrame({'index':aa.index, 'CLV':aa.values})\n",
    "bb.head()"
   ]
  },
  {
   "cell_type": "code",
   "execution_count": null,
   "metadata": {},
   "outputs": [],
   "source": [
    "tra_membres['predicted_purchases']=bgf.conditional_expected_number_of_purchases_up_to_time(t, tra_membres['frequency_cal'], tra_membres['recency_cal'], tra_membres['T_cal'])"
   ]
  },
  {
   "cell_type": "code",
   "execution_count": null,
   "metadata": {},
   "outputs": [],
   "source": [
    "tra_membres['A'] =tra_membres.index"
   ]
  },
  {
   "cell_type": "code",
   "execution_count": null,
   "metadata": {},
   "outputs": [],
   "source": [
    "result_value=pd.concat([tra_membres.set_index('A'),bb.set_index('index')], axis=1, join='inner')\n",
    "result_value.head()"
   ]
  },
  {
   "cell_type": "code",
   "execution_count": null,
   "metadata": {},
   "outputs": [],
   "source": [
    "sns.distplot(result_value.CLV[result_value.CLV<1000], hist=False,label = 'Prediction of lifetime value')\n",
    "sns.distplot(result_value.monetary_holdout[result_value.monetary_holdout<1000], hist=False,label='True monetary value')\n",
    "\n",
    "plt.ylabel('Density')\n",
    "plt.xlabel('CLV value')\n",
    "\n",
    "\n",
    "plt.legend()\n",
    "plt.show()"
   ]
  },
  {
   "cell_type": "code",
   "execution_count": null,
   "metadata": {},
   "outputs": [],
   "source": [
    "result_value.sort_values(by='CLV').tail(10)"
   ]
  },
  {
   "cell_type": "code",
   "execution_count": null,
   "metadata": {},
   "outputs": [],
   "source": [
    "c =  result_value[['CLV', 'monetary_holdout']].corr()\n",
    "print 'Pearson correlation: %s' % c['CLV'][1]"
   ]
  },
  {
   "cell_type": "code",
   "execution_count": null,
   "metadata": {},
   "outputs": [],
   "source": [
    "BTYD_Application_Buyers_sample_TEMP = dataiku.Dataset(\"BTYD_Application_Buyers_sample_TEMP\")\n",
    "BTYD_Application_Buyers_sample_TEMP.write_with_schema(result_value)"
   ]
  }
 ],
 "metadata": {
  "kernelspec": {
   "display_name": "Python 3",
   "language": "python",
   "name": "python3"
  },
  "language_info": {
   "codemirror_mode": {
    "name": "ipython",
    "version": 3
   },
   "file_extension": ".py",
   "mimetype": "text/x-python",
   "name": "python",
   "nbconvert_exporter": "python",
   "pygments_lexer": "ipython3",
   "version": "3.7.3"
  }
 },
 "nbformat": 4,
 "nbformat_minor": 2
}
